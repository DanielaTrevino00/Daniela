{
 "cells": [
  {
   "cell_type": "markdown",
   "metadata": {},
   "source": [
    "# Páginas para programar python"
   ]
  },
  {
   "cell_type": "markdown",
   "metadata": {},
   "source": [
    "1. www.mybinder.org\n",
    "2. www.kaggle.com\n",
    "3. www.jupyter.org/try\n",
    "4. `github jobish` https://mybinder.org/v2/gh/jobish03/jobish03-Visualizacion_de_datos_para_la_toma_de_decisiones/main?filepath=welcome_binder.ipynb\n",
    "\n",
    "Los paquetes hay que incluir en el archivo `requirements.txt`"
   ]
  },
  {
   "cell_type": "markdown",
   "metadata": {},
   "source": [
    "# Entregable 1 \n",
    "### Daniela Treviño Martínez A01720758"
   ]
  },
  {
   "cell_type": "markdown",
   "metadata": {},
   "source": [
    "# Descripcion de base de datos \n",
    "## Datos de interes \n",
    "* 'Active cases': Variable categorica\n",
    "\n",
    "\n",
    "\n"
   ]
  },
  {
   "cell_type": "code",
   "execution_count": 3,
   "metadata": {},
   "outputs": [
    {
     "data": {
      "text/html": [
       "<div>\n",
       "<style scoped>\n",
       "    .dataframe tbody tr th:only-of-type {\n",
       "        vertical-align: middle;\n",
       "    }\n",
       "\n",
       "    .dataframe tbody tr th {\n",
       "        vertical-align: top;\n",
       "    }\n",
       "\n",
       "    .dataframe thead th {\n",
       "        text-align: right;\n",
       "    }\n",
       "</style>\n",
       "<table border=\"1\" class=\"dataframe\">\n",
       "  <thead>\n",
       "    <tr style=\"text-align: right;\">\n",
       "      <th></th>\n",
       "      <th>Country/Region</th>\n",
       "      <th>Continent</th>\n",
       "      <th>Population</th>\n",
       "      <th>TotalCases</th>\n",
       "      <th>NewCases</th>\n",
       "      <th>TotalDeaths</th>\n",
       "      <th>NewDeaths</th>\n",
       "      <th>TotalRecovered</th>\n",
       "      <th>NewRecovered</th>\n",
       "      <th>ActiveCases</th>\n",
       "      <th>Serious,Critical</th>\n",
       "      <th>Tot Cases/1M pop</th>\n",
       "      <th>Deaths/1M pop</th>\n",
       "      <th>TotalTests</th>\n",
       "      <th>Tests/1M pop</th>\n",
       "      <th>WHO Region</th>\n",
       "    </tr>\n",
       "  </thead>\n",
       "  <tbody>\n",
       "    <tr>\n",
       "      <th>0</th>\n",
       "      <td>USA</td>\n",
       "      <td>North America</td>\n",
       "      <td>3.311981e+08</td>\n",
       "      <td>5032179</td>\n",
       "      <td>NaN</td>\n",
       "      <td>162804.0</td>\n",
       "      <td>NaN</td>\n",
       "      <td>2576668.0</td>\n",
       "      <td>NaN</td>\n",
       "      <td>2292707.0</td>\n",
       "      <td>18296.0</td>\n",
       "      <td>15194.0</td>\n",
       "      <td>492.0</td>\n",
       "      <td>63139605.0</td>\n",
       "      <td>190640.0</td>\n",
       "      <td>Americas</td>\n",
       "    </tr>\n",
       "    <tr>\n",
       "      <th>1</th>\n",
       "      <td>Brazil</td>\n",
       "      <td>South America</td>\n",
       "      <td>2.127107e+08</td>\n",
       "      <td>2917562</td>\n",
       "      <td>NaN</td>\n",
       "      <td>98644.0</td>\n",
       "      <td>NaN</td>\n",
       "      <td>2047660.0</td>\n",
       "      <td>NaN</td>\n",
       "      <td>771258.0</td>\n",
       "      <td>8318.0</td>\n",
       "      <td>13716.0</td>\n",
       "      <td>464.0</td>\n",
       "      <td>13206188.0</td>\n",
       "      <td>62085.0</td>\n",
       "      <td>Americas</td>\n",
       "    </tr>\n",
       "    <tr>\n",
       "      <th>2</th>\n",
       "      <td>India</td>\n",
       "      <td>Asia</td>\n",
       "      <td>1.381345e+09</td>\n",
       "      <td>2025409</td>\n",
       "      <td>NaN</td>\n",
       "      <td>41638.0</td>\n",
       "      <td>NaN</td>\n",
       "      <td>1377384.0</td>\n",
       "      <td>NaN</td>\n",
       "      <td>606387.0</td>\n",
       "      <td>8944.0</td>\n",
       "      <td>1466.0</td>\n",
       "      <td>30.0</td>\n",
       "      <td>22149351.0</td>\n",
       "      <td>16035.0</td>\n",
       "      <td>South-EastAsia</td>\n",
       "    </tr>\n",
       "    <tr>\n",
       "      <th>3</th>\n",
       "      <td>Russia</td>\n",
       "      <td>Europe</td>\n",
       "      <td>1.459409e+08</td>\n",
       "      <td>871894</td>\n",
       "      <td>NaN</td>\n",
       "      <td>14606.0</td>\n",
       "      <td>NaN</td>\n",
       "      <td>676357.0</td>\n",
       "      <td>NaN</td>\n",
       "      <td>180931.0</td>\n",
       "      <td>2300.0</td>\n",
       "      <td>5974.0</td>\n",
       "      <td>100.0</td>\n",
       "      <td>29716907.0</td>\n",
       "      <td>203623.0</td>\n",
       "      <td>Europe</td>\n",
       "    </tr>\n",
       "    <tr>\n",
       "      <th>4</th>\n",
       "      <td>South Africa</td>\n",
       "      <td>Africa</td>\n",
       "      <td>5.938157e+07</td>\n",
       "      <td>538184</td>\n",
       "      <td>NaN</td>\n",
       "      <td>9604.0</td>\n",
       "      <td>NaN</td>\n",
       "      <td>387316.0</td>\n",
       "      <td>NaN</td>\n",
       "      <td>141264.0</td>\n",
       "      <td>539.0</td>\n",
       "      <td>9063.0</td>\n",
       "      <td>162.0</td>\n",
       "      <td>3149807.0</td>\n",
       "      <td>53044.0</td>\n",
       "      <td>Africa</td>\n",
       "    </tr>\n",
       "  </tbody>\n",
       "</table>\n",
       "</div>"
      ],
      "text/plain": [
       "  Country/Region      Continent    Population  TotalCases  NewCases  \\\n",
       "0            USA  North America  3.311981e+08     5032179       NaN   \n",
       "1         Brazil  South America  2.127107e+08     2917562       NaN   \n",
       "2          India           Asia  1.381345e+09     2025409       NaN   \n",
       "3         Russia         Europe  1.459409e+08      871894       NaN   \n",
       "4   South Africa         Africa  5.938157e+07      538184       NaN   \n",
       "\n",
       "   TotalDeaths  NewDeaths  TotalRecovered  NewRecovered  ActiveCases  \\\n",
       "0     162804.0        NaN       2576668.0           NaN    2292707.0   \n",
       "1      98644.0        NaN       2047660.0           NaN     771258.0   \n",
       "2      41638.0        NaN       1377384.0           NaN     606387.0   \n",
       "3      14606.0        NaN        676357.0           NaN     180931.0   \n",
       "4       9604.0        NaN        387316.0           NaN     141264.0   \n",
       "\n",
       "   Serious,Critical  Tot Cases/1M pop  Deaths/1M pop  TotalTests  \\\n",
       "0           18296.0           15194.0          492.0  63139605.0   \n",
       "1            8318.0           13716.0          464.0  13206188.0   \n",
       "2            8944.0            1466.0           30.0  22149351.0   \n",
       "3            2300.0            5974.0          100.0  29716907.0   \n",
       "4             539.0            9063.0          162.0   3149807.0   \n",
       "\n",
       "   Tests/1M pop      WHO Region  \n",
       "0      190640.0        Americas  \n",
       "1       62085.0        Americas  \n",
       "2       16035.0  South-EastAsia  \n",
       "3      203623.0          Europe  \n",
       "4       53044.0          Africa  "
      ]
     },
     "execution_count": 3,
     "metadata": {},
     "output_type": "execute_result"
    }
   ],
   "source": [
    "import seaborn as sns # For plotting\n",
    "import pandas as pd\n",
    "import matplotlib.pyplot as plt # For showing plots\n",
    "\n",
    "# Load in the data set\n",
    "df = pd.read_csv(\"worldometer_data.csv\")\n",
    "df.head()"
   ]
  },
  {
   "cell_type": "markdown",
   "metadata": {},
   "source": [
    "## 1. Pregunta de investigación 1:\n",
    "### Cual es la relacion entre.."
   ]
  },
  {
   "cell_type": "code",
   "execution_count": 4,
   "metadata": {},
   "outputs": [
    {
     "data": {
      "text/plain": [
       "<matplotlib.axes._subplots.AxesSubplot at 0x7f6794c7d1d0>"
      ]
     },
     "execution_count": 4,
     "metadata": {},
     "output_type": "execute_result"
    },
    {
     "data": {
      "image/png": "[encoded data removed]",
      "text/plain": [
       "<Figure size 432x288 with 1 Axes>"
      ]
     },
     "metadata": {
      "needs_background": "light"
     },
     "output_type": "display_data"
    }
   ],
   "source": [
    "my_pivot = pd.pivot_table(df,\n",
    "                        index = ['Continent'],\n",
    "                        values = ['TotalRecovered'],\n",
    "                        #aggfunc = ['std','sum','mean','median'],\n",
    "                        aggfunc = 'mean',\n",
    "                        margins = True\n",
    "                         )\n",
    "            \n",
    "my_pivot.plot()"
   ]
  },
  {
   "cell_type": "markdown",
   "metadata": {},
   "source": [
    "## Conclusiones "
   ]
  },
  {
   "cell_type": "markdown",
   "metadata": {},
   "source": [
    "## Pregunta de investigación 2"
   ]
  },
  {
   "cell_type": "code",
   "execution_count": 5,
   "metadata": {},
   "outputs": [
    {
     "data": {
      "text/plain": [
       "<module 'matplotlib.pyplot' from '/srv/conda/envs/notebook/lib/python3.7/site-packages/matplotlib/pyplot.py'>"
      ]
     },
     "execution_count": 5,
     "metadata": {},
     "output_type": "execute_result"
    },
    {
     "data": {
      "image/png": "[encoded data removed]",
      "text/plain": [
       "<Figure size 432x288 with 1 Axes>"
      ]
     },
     "metadata": {
      "needs_background": "light"
     },
     "output_type": "display_data"
    }
   ],
   "source": [
    "sns.boxplot(x = df[\"Continent\"], \n",
    "            y = df[\"TotalRecovered\"])\n",
    "plt"
   ]
  },
  {
   "cell_type": "markdown",
   "metadata": {},
   "source": [
    "## Conclusiones "
   ]
  },
  {
   "cell_type": "markdown",
   "metadata": {},
   "source": [
    "## Pregunta de investigación 3"
   ]
  },
  {
   "cell_type": "code",
   "execution_count": 6,
   "metadata": {},
   "outputs": [
    {
     "data": {
      "text/plain": [
       "<matplotlib.axes._subplots.AxesSubplot at 0x7f678bc7f2d0>"
      ]
     },
     "execution_count": 6,
     "metadata": {},
     "output_type": "execute_result"
    },
    {
     "data": {
      "image/png": "[encoded data removed]",
      "text/plain": [
       "<Figure size 432x288 with 1 Axes>"
      ]
     },
     "metadata": {
      "needs_background": "light"
     },
     "output_type": "display_data"
    }
   ],
   "source": [
    "my_pivot = pd.pivot_table(df,\n",
    "                        index = ['Continent'],\n",
    "                        values = ['TotalDeaths'],\n",
    "                        #aggfunc = ['std','sum','mean','median'],\n",
    "                        aggfunc = 'mean',\n",
    "                        margins = True\n",
    "                         )\n",
    "            \n",
    "my_pivot.plot()"
   ]
  },
  {
   "cell_type": "markdown",
   "metadata": {},
   "source": [
    "## Conclusiones "
   ]
  },
  {
   "cell_type": "markdown",
   "metadata": {},
   "source": [
    "## Pregunta de investigación 4"
   ]
  },
  {
   "cell_type": "code",
   "execution_count": 8,
   "metadata": {},
   "outputs": [
    {
     "data": {
      "text/plain": [
       "<matplotlib.axes._subplots.AxesSubplot at 0x7f678bc838d0>"
      ]
     },
     "execution_count": 8,
     "metadata": {},
     "output_type": "execute_result"
    },
    {
     "data": {
      "image/png": "[encoded data removed]",
      "text/plain": [
       "<Figure size 432x288 with 1 Axes>"
      ]
     },
     "metadata": {
      "needs_background": "light"
     },
     "output_type": "display_data"
    }
   ],
   "source": [
    "my_pivot = pd.pivot_table(df,\n",
    "                        index = ['Continent'],\n",
    "                        values = ['TotalCases'],\n",
    "                        #aggfunc = ['std','sum','mean','median'],\n",
    "                        aggfunc = 'mean',\n",
    "                        margins = True\n",
    "                         )\n",
    "            \n",
    "my_pivot.plot.bar()"
   ]
  },
  {
   "cell_type": "code",
   "execution_count": 9,
   "metadata": {},
   "outputs": [],
   "source": [
    "import seaborn as sns"
   ]
  },
  {
   "cell_type": "markdown",
   "metadata": {},
   "source": [
    "# Pregunta 6 de investigacion\n",
    "## ¿Cual es la relacion con los casos activos y los que estan criticos?"
   ]
  },
  {
   "cell_type": "code",
   "execution_count": 12,
   "metadata": {},
   "outputs": [
    {
     "data": {
      "image/png": "[encoded data removed]",
      "text/plain": [
       "<Figure size 432x288 with 1 Axes>"
      ]
     },
     "metadata": {
      "needs_background": "light"
     },
     "output_type": "display_data"
    }
   ],
   "source": [
    "df.plot(kind='scatter', \n",
    "        x='ActiveCases', \n",
    "        y='Serious,Critical'\n",
    "       )\n",
    "\n",
    "plt.show()"
   ]
  },
  {
   "cell_type": "markdown",
   "metadata": {},
   "source": [
    "## Conclusion"
   ]
  },
  {
   "cell_type": "code",
   "execution_count": 13,
   "metadata": {},
   "outputs": [
    {
     "data": {
      "text/html": [
       "<div>\n",
       "<style scoped>\n",
       "    .dataframe tbody tr th:only-of-type {\n",
       "        vertical-align: middle;\n",
       "    }\n",
       "\n",
       "    .dataframe tbody tr th {\n",
       "        vertical-align: top;\n",
       "    }\n",
       "\n",
       "    .dataframe thead th {\n",
       "        text-align: right;\n",
       "    }\n",
       "</style>\n",
       "<table border=\"1\" class=\"dataframe\">\n",
       "  <thead>\n",
       "    <tr style=\"text-align: right;\">\n",
       "      <th></th>\n",
       "      <th>Population</th>\n",
       "      <th>TotalCases</th>\n",
       "      <th>NewCases</th>\n",
       "      <th>TotalDeaths</th>\n",
       "      <th>NewDeaths</th>\n",
       "      <th>TotalRecovered</th>\n",
       "      <th>NewRecovered</th>\n",
       "      <th>ActiveCases</th>\n",
       "      <th>Serious,Critical</th>\n",
       "      <th>Tot Cases/1M pop</th>\n",
       "      <th>Deaths/1M pop</th>\n",
       "      <th>TotalTests</th>\n",
       "      <th>Tests/1M pop</th>\n",
       "    </tr>\n",
       "  </thead>\n",
       "  <tbody>\n",
       "    <tr>\n",
       "      <th>Population</th>\n",
       "      <td>1.000000</td>\n",
       "      <td>0.546158</td>\n",
       "      <td>0.889610</td>\n",
       "      <td>0.431072</td>\n",
       "      <td>0.910836</td>\n",
       "      <td>0.590239</td>\n",
       "      <td>0.854194</td>\n",
       "      <td>0.459124</td>\n",
       "      <td>0.595379</td>\n",
       "      <td>-0.009337</td>\n",
       "      <td>0.025686</td>\n",
       "      <td>0.497937</td>\n",
       "      <td>-0.075129</td>\n",
       "    </tr>\n",
       "    <tr>\n",
       "      <th>TotalCases</th>\n",
       "      <td>0.546158</td>\n",
       "      <td>1.000000</td>\n",
       "      <td>0.999459</td>\n",
       "      <td>0.938622</td>\n",
       "      <td>0.998062</td>\n",
       "      <td>0.985764</td>\n",
       "      <td>0.998258</td>\n",
       "      <td>0.969423</td>\n",
       "      <td>0.967270</td>\n",
       "      <td>0.252627</td>\n",
       "      <td>0.280476</td>\n",
       "      <td>0.891001</td>\n",
       "      <td>0.029141</td>\n",
       "    </tr>\n",
       "    <tr>\n",
       "      <th>NewCases</th>\n",
       "      <td>0.889610</td>\n",
       "      <td>0.999459</td>\n",
       "      <td>1.000000</td>\n",
       "      <td>0.991894</td>\n",
       "      <td>0.995554</td>\n",
       "      <td>0.991416</td>\n",
       "      <td>0.999636</td>\n",
       "      <td>0.935500</td>\n",
       "      <td>0.985526</td>\n",
       "      <td>0.321203</td>\n",
       "      <td>0.842468</td>\n",
       "      <td>0.214572</td>\n",
       "      <td>-0.669339</td>\n",
       "    </tr>\n",
       "    <tr>\n",
       "      <th>TotalDeaths</th>\n",
       "      <td>0.431072</td>\n",
       "      <td>0.938622</td>\n",
       "      <td>0.991894</td>\n",
       "      <td>1.000000</td>\n",
       "      <td>0.999507</td>\n",
       "      <td>0.935410</td>\n",
       "      <td>0.988362</td>\n",
       "      <td>0.927625</td>\n",
       "      <td>0.906627</td>\n",
       "      <td>0.237206</td>\n",
       "      <td>0.425186</td>\n",
       "      <td>0.850304</td>\n",
       "      <td>0.053870</td>\n",
       "    </tr>\n",
       "    <tr>\n",
       "      <th>NewDeaths</th>\n",
       "      <td>0.910836</td>\n",
       "      <td>0.998062</td>\n",
       "      <td>0.995554</td>\n",
       "      <td>0.999507</td>\n",
       "      <td>1.000000</td>\n",
       "      <td>0.998935</td>\n",
       "      <td>0.992651</td>\n",
       "      <td>0.888717</td>\n",
       "      <td>0.997112</td>\n",
       "      <td>0.046499</td>\n",
       "      <td>0.751519</td>\n",
       "      <td>0.039460</td>\n",
       "      <td>-0.803470</td>\n",
       "    </tr>\n",
       "    <tr>\n",
       "      <th>TotalRecovered</th>\n",
       "      <td>0.590239</td>\n",
       "      <td>0.985764</td>\n",
       "      <td>0.991416</td>\n",
       "      <td>0.935410</td>\n",
       "      <td>0.998935</td>\n",
       "      <td>1.000000</td>\n",
       "      <td>0.986012</td>\n",
       "      <td>0.914566</td>\n",
       "      <td>0.949628</td>\n",
       "      <td>0.268483</td>\n",
       "      <td>0.296443</td>\n",
       "      <td>0.870113</td>\n",
       "      <td>0.022027</td>\n",
       "    </tr>\n",
       "    <tr>\n",
       "      <th>NewRecovered</th>\n",
       "      <td>0.854194</td>\n",
       "      <td>0.998258</td>\n",
       "      <td>0.999636</td>\n",
       "      <td>0.988362</td>\n",
       "      <td>0.992651</td>\n",
       "      <td>0.986012</td>\n",
       "      <td>1.000000</td>\n",
       "      <td>0.937663</td>\n",
       "      <td>0.980595</td>\n",
       "      <td>0.167036</td>\n",
       "      <td>0.825828</td>\n",
       "      <td>-0.081745</td>\n",
       "      <td>-0.869608</td>\n",
       "    </tr>\n",
       "    <tr>\n",
       "      <th>ActiveCases</th>\n",
       "      <td>0.459124</td>\n",
       "      <td>0.969423</td>\n",
       "      <td>0.935500</td>\n",
       "      <td>0.927625</td>\n",
       "      <td>0.888717</td>\n",
       "      <td>0.914566</td>\n",
       "      <td>0.937663</td>\n",
       "      <td>1.000000</td>\n",
       "      <td>0.945943</td>\n",
       "      <td>0.212899</td>\n",
       "      <td>0.255001</td>\n",
       "      <td>0.911488</td>\n",
       "      <td>0.028963</td>\n",
       "    </tr>\n",
       "    <tr>\n",
       "      <th>Serious,Critical</th>\n",
       "      <td>0.595379</td>\n",
       "      <td>0.967270</td>\n",
       "      <td>0.985526</td>\n",
       "      <td>0.906627</td>\n",
       "      <td>0.997112</td>\n",
       "      <td>0.949628</td>\n",
       "      <td>0.980595</td>\n",
       "      <td>0.945943</td>\n",
       "      <td>1.000000</td>\n",
       "      <td>0.209668</td>\n",
       "      <td>0.271842</td>\n",
       "      <td>0.859526</td>\n",
       "      <td>0.020649</td>\n",
       "    </tr>\n",
       "    <tr>\n",
       "      <th>Tot Cases/1M pop</th>\n",
       "      <td>-0.009337</td>\n",
       "      <td>0.252627</td>\n",
       "      <td>0.321203</td>\n",
       "      <td>0.237206</td>\n",
       "      <td>0.046499</td>\n",
       "      <td>0.268483</td>\n",
       "      <td>0.167036</td>\n",
       "      <td>0.212899</td>\n",
       "      <td>0.209668</td>\n",
       "      <td>1.000000</td>\n",
       "      <td>0.502134</td>\n",
       "      <td>0.194120</td>\n",
       "      <td>0.302728</td>\n",
       "    </tr>\n",
       "    <tr>\n",
       "      <th>Deaths/1M pop</th>\n",
       "      <td>0.025686</td>\n",
       "      <td>0.280476</td>\n",
       "      <td>0.842468</td>\n",
       "      <td>0.425186</td>\n",
       "      <td>0.751519</td>\n",
       "      <td>0.296443</td>\n",
       "      <td>0.825828</td>\n",
       "      <td>0.255001</td>\n",
       "      <td>0.271842</td>\n",
       "      <td>0.502134</td>\n",
       "      <td>1.000000</td>\n",
       "      <td>0.264218</td>\n",
       "      <td>0.156827</td>\n",
       "    </tr>\n",
       "    <tr>\n",
       "      <th>TotalTests</th>\n",
       "      <td>0.497937</td>\n",
       "      <td>0.891001</td>\n",
       "      <td>0.214572</td>\n",
       "      <td>0.850304</td>\n",
       "      <td>0.039460</td>\n",
       "      <td>0.870113</td>\n",
       "      <td>-0.081745</td>\n",
       "      <td>0.911488</td>\n",
       "      <td>0.859526</td>\n",
       "      <td>0.194120</td>\n",
       "      <td>0.264218</td>\n",
       "      <td>1.000000</td>\n",
       "      <td>0.096177</td>\n",
       "    </tr>\n",
       "    <tr>\n",
       "      <th>Tests/1M pop</th>\n",
       "      <td>-0.075129</td>\n",
       "      <td>0.029141</td>\n",
       "      <td>-0.669339</td>\n",
       "      <td>0.053870</td>\n",
       "      <td>-0.803470</td>\n",
       "      <td>0.022027</td>\n",
       "      <td>-0.869608</td>\n",
       "      <td>0.028963</td>\n",
       "      <td>0.020649</td>\n",
       "      <td>0.302728</td>\n",
       "      <td>0.156827</td>\n",
       "      <td>0.096177</td>\n",
       "      <td>1.000000</td>\n",
       "    </tr>\n",
       "  </tbody>\n",
       "</table>\n",
       "</div>"
      ],
      "text/plain": [
       "                  Population  TotalCases  NewCases  TotalDeaths  NewDeaths  \\\n",
       "Population          1.000000    0.546158  0.889610     0.431072   0.910836   \n",
       "TotalCases          0.546158    1.000000  0.999459     0.938622   0.998062   \n",
       "NewCases            0.889610    0.999459  1.000000     0.991894   0.995554   \n",
       "TotalDeaths         0.431072    0.938622  0.991894     1.000000   0.999507   \n",
       "NewDeaths           0.910836    0.998062  0.995554     0.999507   1.000000   \n",
       "TotalRecovered      0.590239    0.985764  0.991416     0.935410   0.998935   \n",
       "NewRecovered        0.854194    0.998258  0.999636     0.988362   0.992651   \n",
       "ActiveCases         0.459124    0.969423  0.935500     0.927625   0.888717   \n",
       "Serious,Critical    0.595379    0.967270  0.985526     0.906627   0.997112   \n",
       "Tot Cases/1M pop   -0.009337    0.252627  0.321203     0.237206   0.046499   \n",
       "Deaths/1M pop       0.025686    0.280476  0.842468     0.425186   0.751519   \n",
       "TotalTests          0.497937    0.891001  0.214572     0.850304   0.039460   \n",
       "Tests/1M pop       -0.075129    0.029141 -0.669339     0.053870  -0.803470   \n",
       "\n",
       "                  TotalRecovered  NewRecovered  ActiveCases  Serious,Critical  \\\n",
       "Population              0.590239      0.854194     0.459124          0.595379   \n",
       "TotalCases              0.985764      0.998258     0.969423          0.967270   \n",
       "NewCases                0.991416      0.999636     0.935500          0.985526   \n",
       "TotalDeaths             0.935410      0.988362     0.927625          0.906627   \n",
       "NewDeaths               0.998935      0.992651     0.888717          0.997112   \n",
       "TotalRecovered          1.000000      0.986012     0.914566          0.949628   \n",
       "NewRecovered            0.986012      1.000000     0.937663          0.980595   \n",
       "ActiveCases             0.914566      0.937663     1.000000          0.945943   \n",
       "Serious,Critical        0.949628      0.980595     0.945943          1.000000   \n",
       "Tot Cases/1M pop        0.268483      0.167036     0.212899          0.209668   \n",
       "Deaths/1M pop           0.296443      0.825828     0.255001          0.271842   \n",
       "TotalTests              0.870113     -0.081745     0.911488          0.859526   \n",
       "Tests/1M pop            0.022027     -0.869608     0.028963          0.020649   \n",
       "\n",
       "                  Tot Cases/1M pop  Deaths/1M pop  TotalTests  Tests/1M pop  \n",
       "Population               -0.009337       0.025686    0.497937     -0.075129  \n",
       "TotalCases                0.252627       0.280476    0.891001      0.029141  \n",
       "NewCases                  0.321203       0.842468    0.214572     -0.669339  \n",
       "TotalDeaths               0.237206       0.425186    0.850304      0.053870  \n",
       "NewDeaths                 0.046499       0.751519    0.039460     -0.803470  \n",
       "TotalRecovered            0.268483       0.296443    0.870113      0.022027  \n",
       "NewRecovered              0.167036       0.825828   -0.081745     -0.869608  \n",
       "ActiveCases               0.212899       0.255001    0.911488      0.028963  \n",
       "Serious,Critical          0.209668       0.271842    0.859526      0.020649  \n",
       "Tot Cases/1M pop          1.000000       0.502134    0.194120      0.302728  \n",
       "Deaths/1M pop             0.502134       1.000000    0.264218      0.156827  \n",
       "TotalTests                0.194120       0.264218    1.000000      0.096177  \n",
       "Tests/1M pop              0.302728       0.156827    0.096177      1.000000  "
      ]
     },
     "execution_count": 13,
     "metadata": {},
     "output_type": "execute_result"
    }
   ],
   "source": [
    "df.corr()"
   ]
  },
  {
   "cell_type": "code",
   "execution_count": 14,
   "metadata": {},
   "outputs": [
    {
     "name": "stdout",
     "output_type": "stream",
     "text": [
      "Collecting statsmodels\n",
      "  Downloading statsmodels-0.13.1-cp37-cp37m-manylinux_2_17_x86_64.manylinux2014_x86_64.whl (9.8 MB)\n",
      "     |████████████████████████████████| 9.8 MB 4.7 MB/s            �████████████▋     | 8.2 MB 4.7 MB/s eta 0:00:01\n",
      "\u001b[?25hCollecting patsy>=0.5.2\n",
      "  Downloading patsy-0.5.2-py2.py3-none-any.whl (233 kB)\n",
      "     |████████████████████████████████| 233 kB 52.3 MB/s            \n",
      "\u001b[?25hRequirement already satisfied: numpy>=1.17 in /srv/conda/envs/notebook/lib/python3.7/site-packages (from statsmodels) (1.18.5)\n",
      "Requirement already satisfied: pandas>=0.25 in /srv/conda/envs/notebook/lib/python3.7/site-packages (from statsmodels) (1.0.4)\n",
      "Requirement already satisfied: scipy>=1.3 in /srv/conda/envs/notebook/lib/python3.7/site-packages (from statsmodels) (1.4.1)\n",
      "Requirement already satisfied: pytz>=2017.2 in /srv/conda/envs/notebook/lib/python3.7/site-packages (from pandas>=0.25->statsmodels) (2020.1)\n",
      "Requirement already satisfied: python-dateutil>=2.6.1 in /srv/conda/envs/notebook/lib/python3.7/site-packages (from pandas>=0.25->statsmodels) (2.8.1)\n",
      "Requirement already satisfied: six in /srv/conda/envs/notebook/lib/python3.7/site-packages (from patsy>=0.5.2->statsmodels) (1.15.0)\n",
      "Installing collected packages: patsy, statsmodels\n",
      "Successfully installed patsy-0.5.2 statsmodels-0.13.1\n",
      "Note: you may need to restart the kernel to use updated packages.\n"
     ]
    }
   ],
   "source": [
    "pip install statsmodels"
   ]
  },
  {
   "cell_type": "code",
   "execution_count": 15,
   "metadata": {},
   "outputs": [],
   "source": [
    "import seaborn as sns\n",
    "import matplotlib.pyplot as plt\n",
    "import statsmodels.api as sm\n",
    "import numpy as np\n",
    "from sklearn import linear_model\n"
   ]
  },
  {
   "cell_type": "code",
   "execution_count": 16,
   "metadata": {},
   "outputs": [
    {
     "name": "stderr",
     "output_type": "stream",
     "text": [
      "/srv/conda/envs/notebook/lib/python3.7/site-packages/statsmodels/stats/stattools.py:75: ValueWarning: omni_normtest is not valid with less than 8 observations; 4 samples were given.\n",
      "  \"samples were given.\" % int(n), ValueWarning)\n"
     ]
    },
    {
     "data": {
      "text/html": [
       "<table class=\"simpletable\">\n",
       "<caption>OLS Regression Results</caption>\n",
       "<tr>\n",
       "  <th>Dep. Variable:</th>       <td>TotalCases</td>    <th>  R-squared:         </th> <td>   0.999</td>\n",
       "</tr>\n",
       "<tr>\n",
       "  <th>Model:</th>                   <td>OLS</td>       <th>  Adj. R-squared:    </th> <td>   0.998</td>\n",
       "</tr>\n",
       "<tr>\n",
       "  <th>Method:</th>             <td>Least Squares</td>  <th>  F-statistic:       </th> <td>   1847.</td>\n",
       "</tr>\n",
       "<tr>\n",
       "  <th>Date:</th>             <td>Wed, 01 Dec 2021</td> <th>  Prob (F-statistic):</th> <td>0.000541</td>\n",
       "</tr>\n",
       "<tr>\n",
       "  <th>Time:</th>                 <td>20:01:30</td>     <th>  Log-Likelihood:    </th> <td> -40.604</td>\n",
       "</tr>\n",
       "<tr>\n",
       "  <th>No. Observations:</th>      <td>     4</td>      <th>  AIC:               </th> <td>   85.21</td>\n",
       "</tr>\n",
       "<tr>\n",
       "  <th>Df Residuals:</th>          <td>     2</td>      <th>  BIC:               </th> <td>   83.98</td>\n",
       "</tr>\n",
       "<tr>\n",
       "  <th>Df Model:</th>              <td>     1</td>      <th>                     </th>     <td> </td>   \n",
       "</tr>\n",
       "<tr>\n",
       "  <th>Covariance Type:</th>      <td>nonrobust</td>    <th>                     </th>     <td> </td>   \n",
       "</tr>\n",
       "</table>\n",
       "<table class=\"simpletable\">\n",
       "<tr>\n",
       "      <td></td>         <th>coef</th>     <th>std err</th>      <th>t</th>      <th>P>|t|</th>  <th>[0.025</th>    <th>0.975]</th>  \n",
       "</tr>\n",
       "<tr>\n",
       "  <th>Intercept</th> <td> 3507.9061</td> <td> 5428.273</td> <td>    0.646</td> <td> 0.584</td> <td>-1.98e+04</td> <td> 2.69e+04</td>\n",
       "</tr>\n",
       "<tr>\n",
       "  <th>NewCases</th>  <td>   69.4974</td> <td>    1.617</td> <td>   42.977</td> <td> 0.001</td> <td>   62.540</td> <td>   76.455</td>\n",
       "</tr>\n",
       "</table>\n",
       "<table class=\"simpletable\">\n",
       "<tr>\n",
       "  <th>Omnibus:</th>       <td>   nan</td> <th>  Durbin-Watson:     </th> <td>   3.301</td>\n",
       "</tr>\n",
       "<tr>\n",
       "  <th>Prob(Omnibus):</th> <td>   nan</td> <th>  Jarque-Bera (JB):  </th> <td>   0.477</td>\n",
       "</tr>\n",
       "<tr>\n",
       "  <th>Skew:</th>          <td> 0.584</td> <th>  Prob(JB):          </th> <td>   0.788</td>\n",
       "</tr>\n",
       "<tr>\n",
       "  <th>Kurtosis:</th>      <td> 1.777</td> <th>  Cond. No.          </th> <td>4.16e+03</td>\n",
       "</tr>\n",
       "</table><br/><br/>Notes:<br/>[1] Standard Errors assume that the covariance matrix of the errors is correctly specified.<br/>[2] The condition number is large, 4.16e+03. This might indicate that there are<br/>strong multicollinearity or other numerical problems."
      ],
      "text/plain": [
       "<class 'statsmodels.iolib.summary.Summary'>\n",
       "\"\"\"\n",
       "                            OLS Regression Results                            \n",
       "==============================================================================\n",
       "Dep. Variable:             TotalCases   R-squared:                       0.999\n",
       "Model:                            OLS   Adj. R-squared:                  0.998\n",
       "Method:                 Least Squares   F-statistic:                     1847.\n",
       "Date:                Wed, 01 Dec 2021   Prob (F-statistic):           0.000541\n",
       "Time:                        20:01:30   Log-Likelihood:                -40.604\n",
       "No. Observations:                   4   AIC:                             85.21\n",
       "Df Residuals:                       2   BIC:                             83.98\n",
       "Df Model:                           1                                         \n",
       "Covariance Type:            nonrobust                                         \n",
       "==============================================================================\n",
       "                 coef    std err          t      P>|t|      [0.025      0.975]\n",
       "------------------------------------------------------------------------------\n",
       "Intercept   3507.9061   5428.273      0.646      0.584   -1.98e+04    2.69e+04\n",
       "NewCases      69.4974      1.617     42.977      0.001      62.540      76.455\n",
       "==============================================================================\n",
       "Omnibus:                          nan   Durbin-Watson:                   3.301\n",
       "Prob(Omnibus):                    nan   Jarque-Bera (JB):                0.477\n",
       "Skew:                           0.584   Prob(JB):                        0.788\n",
       "Kurtosis:                       1.777   Cond. No.                     4.16e+03\n",
       "==============================================================================\n",
       "\n",
       "Notes:\n",
       "[1] Standard Errors assume that the covariance matrix of the errors is correctly specified.\n",
       "[2] The condition number is large, 4.16e+03. This might indicate that there are\n",
       "strong multicollinearity or other numerical problems.\n",
       "\"\"\""
      ]
     },
     "execution_count": 16,
     "metadata": {},
     "output_type": "execute_result"
    }
   ],
   "source": [
    "#y = b0 + b1*x1 + b2*x2 + ... \n",
    "# 'NewCases' =b0 + b1* 'NewCases'\n",
    "\n",
    "modelA = sm.OLS.from_formula('TotalCases~NewCases',data = df)\n",
    "resultA = modelA.fit()\n",
    "resultA.summary()\n"
   ]
  },
  {
   "cell_type": "markdown",
   "metadata": {},
   "source": [
    "## Observaciones \n",
    "* R-cuadrado : 0.830; por lo tanto 83% de NewDeaths explicado por el modelo \n",
    "Population =b0 + b1*NewDeaths\n",
    "\n",
    "* Df Model: 1\n",
    "\n",
    "* b0:2.784e+07\n",
    "* b1:1.205e+05\n",
    "\n",
    "\n",
    "### Modelo final seria: \n",
    "Population = 2.784e+07 + 1.205e+05*NewDeaths\n",
    "\n"
   ]
  },
  {
   "cell_type": "markdown",
   "metadata": {},
   "source": [
    "# Pregunta 6\n",
    "## ¿Cuantas pruebas se hicieron en cada region?"
   ]
  },
  {
   "cell_type": "code",
   "execution_count": 28,
   "metadata": {},
   "outputs": [
    {
     "name": "stdout",
     "output_type": "stream",
     "text": [
      "<class 'pandas.core.groupby.generic.DataFrameGroupBy'>\n"
     ]
    },
    {
     "data": {
      "text/html": [
       "<div>\n",
       "<style scoped>\n",
       "    .dataframe tbody tr th:only-of-type {\n",
       "        vertical-align: middle;\n",
       "    }\n",
       "\n",
       "    .dataframe tbody tr th {\n",
       "        vertical-align: top;\n",
       "    }\n",
       "\n",
       "    .dataframe thead th {\n",
       "        text-align: right;\n",
       "    }\n",
       "</style>\n",
       "<table border=\"1\" class=\"dataframe\">\n",
       "  <thead>\n",
       "    <tr style=\"text-align: right;\">\n",
       "      <th></th>\n",
       "      <th>Population</th>\n",
       "      <th>TotalCases</th>\n",
       "      <th>NewCases</th>\n",
       "      <th>TotalDeaths</th>\n",
       "      <th>NewDeaths</th>\n",
       "      <th>TotalRecovered</th>\n",
       "      <th>NewRecovered</th>\n",
       "      <th>ActiveCases</th>\n",
       "      <th>Serious,Critical</th>\n",
       "      <th>Tot Cases/1M pop</th>\n",
       "      <th>Deaths/1M pop</th>\n",
       "      <th>TotalTests</th>\n",
       "      <th>Tests/1M pop</th>\n",
       "    </tr>\n",
       "    <tr>\n",
       "      <th>WHO Region</th>\n",
       "      <th></th>\n",
       "      <th></th>\n",
       "      <th></th>\n",
       "      <th></th>\n",
       "      <th></th>\n",
       "      <th></th>\n",
       "      <th></th>\n",
       "      <th></th>\n",
       "      <th></th>\n",
       "      <th></th>\n",
       "      <th></th>\n",
       "      <th></th>\n",
       "      <th></th>\n",
       "    </tr>\n",
       "  </thead>\n",
       "  <tbody>\n",
       "    <tr>\n",
       "      <th>Americas</th>\n",
       "      <td>1.018880e+09</td>\n",
       "      <td>10452852</td>\n",
       "      <td>7902.0</td>\n",
       "      <td>384637.0</td>\n",
       "      <td>899.0</td>\n",
       "      <td>6259733.0</td>\n",
       "      <td>5076.0</td>\n",
       "      <td>3808482.0</td>\n",
       "      <td>39973.0</td>\n",
       "      <td>146673.0</td>\n",
       "      <td>4932.00</td>\n",
       "      <td>92420577.0</td>\n",
       "      <td>1570567.0</td>\n",
       "    </tr>\n",
       "    <tr>\n",
       "      <th>Europe</th>\n",
       "      <td>9.277339e+08</td>\n",
       "      <td>3544086</td>\n",
       "      <td>0.0</td>\n",
       "      <td>215564.0</td>\n",
       "      <td>0.0</td>\n",
       "      <td>2047446.0</td>\n",
       "      <td>0.0</td>\n",
       "      <td>566295.0</td>\n",
       "      <td>6676.0</td>\n",
       "      <td>233379.0</td>\n",
       "      <td>9868.00</td>\n",
       "      <td>108184582.0</td>\n",
       "      <td>7382226.0</td>\n",
       "    </tr>\n",
       "    <tr>\n",
       "      <th>South-EastAsia</th>\n",
       "      <td>1.997513e+09</td>\n",
       "      <td>2426899</td>\n",
       "      <td>0.0</td>\n",
       "      <td>50624.0</td>\n",
       "      <td>0.0</td>\n",
       "      <td>1621081.0</td>\n",
       "      <td>0.0</td>\n",
       "      <td>755194.0</td>\n",
       "      <td>8958.0</td>\n",
       "      <td>13145.0</td>\n",
       "      <td>108.40</td>\n",
       "      <td>26922262.0</td>\n",
       "      <td>307222.0</td>\n",
       "    </tr>\n",
       "    <tr>\n",
       "      <th>EasternMediterranean</th>\n",
       "      <td>7.320077e+08</td>\n",
       "      <td>1605866</td>\n",
       "      <td>0.0</td>\n",
       "      <td>42376.0</td>\n",
       "      <td>0.0</td>\n",
       "      <td>1340094.0</td>\n",
       "      <td>0.0</td>\n",
       "      <td>223396.0</td>\n",
       "      <td>7982.0</td>\n",
       "      <td>133235.0</td>\n",
       "      <td>1098.00</td>\n",
       "      <td>19885783.0</td>\n",
       "      <td>1851579.0</td>\n",
       "    </tr>\n",
       "    <tr>\n",
       "      <th>Africa</th>\n",
       "      <td>1.118461e+09</td>\n",
       "      <td>852026</td>\n",
       "      <td>0.0</td>\n",
       "      <td>15538.0</td>\n",
       "      <td>0.0</td>\n",
       "      <td>604326.0</td>\n",
       "      <td>0.0</td>\n",
       "      <td>232162.0</td>\n",
       "      <td>1097.0</td>\n",
       "      <td>43191.0</td>\n",
       "      <td>679.28</td>\n",
       "      <td>6856722.0</td>\n",
       "      <td>596367.0</td>\n",
       "    </tr>\n",
       "  </tbody>\n",
       "</table>\n",
       "</div>"
      ],
      "text/plain": [
       "                        Population  TotalCases  NewCases  TotalDeaths  \\\n",
       "WHO Region                                                              \n",
       "Americas              1.018880e+09    10452852    7902.0     384637.0   \n",
       "Europe                9.277339e+08     3544086       0.0     215564.0   \n",
       "South-EastAsia        1.997513e+09     2426899       0.0      50624.0   \n",
       "EasternMediterranean  7.320077e+08     1605866       0.0      42376.0   \n",
       "Africa                1.118461e+09      852026       0.0      15538.0   \n",
       "\n",
       "                      NewDeaths  TotalRecovered  NewRecovered  ActiveCases  \\\n",
       "WHO Region                                                                   \n",
       "Americas                  899.0       6259733.0        5076.0    3808482.0   \n",
       "Europe                      0.0       2047446.0           0.0     566295.0   \n",
       "South-EastAsia              0.0       1621081.0           0.0     755194.0   \n",
       "EasternMediterranean        0.0       1340094.0           0.0     223396.0   \n",
       "Africa                      0.0        604326.0           0.0     232162.0   \n",
       "\n",
       "                      Serious,Critical  Tot Cases/1M pop  Deaths/1M pop  \\\n",
       "WHO Region                                                                \n",
       "Americas                       39973.0          146673.0        4932.00   \n",
       "Europe                          6676.0          233379.0        9868.00   \n",
       "South-EastAsia                  8958.0           13145.0         108.40   \n",
       "EasternMediterranean            7982.0          133235.0        1098.00   \n",
       "Africa                          1097.0           43191.0         679.28   \n",
       "\n",
       "                       TotalTests  Tests/1M pop  \n",
       "WHO Region                                       \n",
       "Americas               92420577.0     1570567.0  \n",
       "Europe                108184582.0     7382226.0  \n",
       "South-EastAsia         26922262.0      307222.0  \n",
       "EasternMediterranean   19885783.0     1851579.0  \n",
       "Africa                  6856722.0      596367.0  "
      ]
     },
     "execution_count": 28,
     "metadata": {},
     "output_type": "execute_result"
    }
   ],
   "source": [
    "df_continents = df.groupby('WHO Region', \n",
    "                           axis=0).sum()\n",
    "\n",
    "# note: the output of the groupby method is a `groupby' object. \n",
    "# we can not use it further until we apply a function (eg .sum())\n",
    "print(type(df.groupby('WHO Region', \n",
    "                      axis=0\n",
    "                     )))\n",
    "\n",
    "df_continents.sort_values(['TotalCases'], \n",
    "                          ascending=False, \n",
    "                          axis=0, \n",
    "                          inplace=True\n",
    "                         )\n",
    "df_continents.head()"
   ]
  },
  {
   "cell_type": "code",
   "execution_count": 29,
   "metadata": {},
   "outputs": [
    {
     "data": {
      "image/png": "[encoded data removed]",
      "text/plain": [
       "<Figure size 360x432 with 1 Axes>"
      ]
     },
     "metadata": {},
     "output_type": "display_data"
    }
   ],
   "source": [
    "df_continents['TotalTests'].plot(kind='pie',\n",
    "                            figsize=(5, 6),\n",
    "                            autopct='%10.1f%%', # add in percentages\n",
    "                            startangle=90,     # start angle 90° (Africa)\n",
    "                            shadow=True,       # add shadow      \n",
    "                            )\n",
    "\n",
    "plt.title('Total de pruebas que se realizaron en cada continente')\n",
    "plt.axis('equal') # Sets the pie chart to look like a circle.\n",
    "\n",
    "plt.show()"
   ]
  },
  {
   "cell_type": "code",
   "execution_count": null,
   "metadata": {},
   "outputs": [],
   "source": []
  }
 ],
 "metadata": {
  "kernelspec": {
   "display_name": "Python 3 (ipykernel)",
   "language": "python",
   "name": "python3"
  },
  "language_info": {
   "codemirror_mode": {
    "name": "ipython",
    "version": 3
   },
   "file_extension": ".py",
   "mimetype": "text/x-python",
   "name": "python",
   "nbconvert_exporter": "python",
   "pygments_lexer": "ipython3",
   "version": "3.7.12"
  }
 },
 "nbformat": 4,
 "nbformat_minor": 4
}
