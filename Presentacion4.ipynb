{
 "cells": [
  {
   "cell_type": "markdown",
   "metadata": {},
   "source": [
    "# Páginas para programar python"
   ]
  },
  {
   "cell_type": "markdown",
   "metadata": {},
   "source": [
    "1. www.mybinder.org\n",
    "2. www.kaggle.com\n",
    "3. www.jupyter.org/try\n",
    "4. `github jobish` https://mybinder.org/v2/gh/jobish03/jobish03-Visualizacion_de_datos_para_la_toma_de_decisiones/main?filepath=welcome_binder.ipynb\n",
    "\n",
    "Los paquetes hay que incluir en el archivo `requirements.txt`"
   ]
  },
  {
   "cell_type": "markdown",
   "metadata": {},
   "source": [
    "# Presentación final  \n",
    "### Daniela Eugenia Treviño Martínez A01720758\n",
    "### Mi base se datos se obtuvo de Kaggle, tiene la información sobre el Covid-19 en la población "
   ]
  },
  {
   "cell_type": "markdown",
   "metadata": {},
   "source": [
    "# Descripción de base de datos \n",
    "## Cuenta con 8 variables\n",
    "\n",
    "### Variables numericas\n",
    "* Total Cases: es una variable que representa el numero total de casos de Covid 19 que hay en cada región\n",
    "\n",
    "* Total Deaths: es una variable que muestra el total de muertes causadas por Covid 19\n",
    "\n",
    "* Total Recovered: es una variable que muestra el total de personas que se recuperaron de Covid 19\n",
    "\n",
    "* Active Cases: representa a lso casos que estan activos actualmente de Covid\n",
    "\n",
    "\n",
    "* New Recovered: es una variables que representa los casos de covid que acaban de recuperarse\n",
    "\n",
    "\n",
    "* Serious,Critical : representa los casos de covid que estan en un estado critico \n",
    "\n",
    "### Variables categoricas \n",
    "\n",
    "* Continent : Es una variable que representa a los continentes en el mundo\n",
    "\n",
    "* WHO Region: Es una variable que representa a las regiones en el mundo \n",
    "\n",
    "\n"
   ]
  },
  {
   "cell_type": "code",
   "execution_count": 22,
   "metadata": {},
   "outputs": [
    {
     "name": "stdout",
     "output_type": "stream",
     "text": [
      "Requirement already satisfied: statsmodels in /srv/conda/envs/notebook/lib/python3.7/site-packages (0.13.1)\n",
      "Requirement already satisfied: patsy>=0.5.2 in /srv/conda/envs/notebook/lib/python3.7/site-packages (from statsmodels) (0.5.2)\n",
      "Requirement already satisfied: scipy>=1.3 in /srv/conda/envs/notebook/lib/python3.7/site-packages (from statsmodels) (1.4.1)\n",
      "Requirement already satisfied: numpy>=1.17 in /srv/conda/envs/notebook/lib/python3.7/site-packages (from statsmodels) (1.18.5)\n",
      "Requirement already satisfied: pandas>=0.25 in /srv/conda/envs/notebook/lib/python3.7/site-packages (from statsmodels) (1.0.4)\n",
      "Requirement already satisfied: python-dateutil>=2.6.1 in /srv/conda/envs/notebook/lib/python3.7/site-packages (from pandas>=0.25->statsmodels) (2.8.1)\n",
      "Requirement already satisfied: pytz>=2017.2 in /srv/conda/envs/notebook/lib/python3.7/site-packages (from pandas>=0.25->statsmodels) (2020.1)\n",
      "Requirement already satisfied: six in /srv/conda/envs/notebook/lib/python3.7/site-packages (from patsy>=0.5.2->statsmodels) (1.15.0)\n",
      "Note: you may need to restart the kernel to use updated packages.\n"
     ]
    }
   ],
   "source": [
    "pip install statsmodels"
   ]
  },
  {
   "cell_type": "code",
   "execution_count": 23,
   "metadata": {},
   "outputs": [],
   "source": [
    "import seaborn as sns\n",
    "import matplotlib.pyplot as plt\n",
    "import statsmodels.api as sm\n",
    "import numpy as np\n",
    "from sklearn import linear_model\n"
   ]
  },
  {
   "cell_type": "code",
   "execution_count": 24,
   "metadata": {},
   "outputs": [
    {
     "data": {
      "text/html": [
       "<div>\n",
       "<style scoped>\n",
       "    .dataframe tbody tr th:only-of-type {\n",
       "        vertical-align: middle;\n",
       "    }\n",
       "\n",
       "    .dataframe tbody tr th {\n",
       "        vertical-align: top;\n",
       "    }\n",
       "\n",
       "    .dataframe thead th {\n",
       "        text-align: right;\n",
       "    }\n",
       "</style>\n",
       "<table border=\"1\" class=\"dataframe\">\n",
       "  <thead>\n",
       "    <tr style=\"text-align: right;\">\n",
       "      <th></th>\n",
       "      <th>Country/Region</th>\n",
       "      <th>Continent</th>\n",
       "      <th>Population</th>\n",
       "      <th>TotalCases</th>\n",
       "      <th>NewCases</th>\n",
       "      <th>TotalDeaths</th>\n",
       "      <th>NewDeaths</th>\n",
       "      <th>TotalRecovered</th>\n",
       "      <th>NewRecovered</th>\n",
       "      <th>ActiveCases</th>\n",
       "      <th>Serious,Critical</th>\n",
       "      <th>Tot Cases/1M pop</th>\n",
       "      <th>Deaths/1M pop</th>\n",
       "      <th>TotalTests</th>\n",
       "      <th>Tests/1M pop</th>\n",
       "      <th>WHO Region</th>\n",
       "    </tr>\n",
       "  </thead>\n",
       "  <tbody>\n",
       "    <tr>\n",
       "      <th>0</th>\n",
       "      <td>USA</td>\n",
       "      <td>North America</td>\n",
       "      <td>3.311981e+08</td>\n",
       "      <td>5032179</td>\n",
       "      <td>NaN</td>\n",
       "      <td>162804.0</td>\n",
       "      <td>NaN</td>\n",
       "      <td>2576668.0</td>\n",
       "      <td>NaN</td>\n",
       "      <td>2292707.0</td>\n",
       "      <td>18296.0</td>\n",
       "      <td>15194.0</td>\n",
       "      <td>492.0</td>\n",
       "      <td>63139605.0</td>\n",
       "      <td>190640.0</td>\n",
       "      <td>Americas</td>\n",
       "    </tr>\n",
       "    <tr>\n",
       "      <th>1</th>\n",
       "      <td>Brazil</td>\n",
       "      <td>South America</td>\n",
       "      <td>2.127107e+08</td>\n",
       "      <td>2917562</td>\n",
       "      <td>NaN</td>\n",
       "      <td>98644.0</td>\n",
       "      <td>NaN</td>\n",
       "      <td>2047660.0</td>\n",
       "      <td>NaN</td>\n",
       "      <td>771258.0</td>\n",
       "      <td>8318.0</td>\n",
       "      <td>13716.0</td>\n",
       "      <td>464.0</td>\n",
       "      <td>13206188.0</td>\n",
       "      <td>62085.0</td>\n",
       "      <td>Americas</td>\n",
       "    </tr>\n",
       "    <tr>\n",
       "      <th>2</th>\n",
       "      <td>India</td>\n",
       "      <td>Asia</td>\n",
       "      <td>1.381345e+09</td>\n",
       "      <td>2025409</td>\n",
       "      <td>NaN</td>\n",
       "      <td>41638.0</td>\n",
       "      <td>NaN</td>\n",
       "      <td>1377384.0</td>\n",
       "      <td>NaN</td>\n",
       "      <td>606387.0</td>\n",
       "      <td>8944.0</td>\n",
       "      <td>1466.0</td>\n",
       "      <td>30.0</td>\n",
       "      <td>22149351.0</td>\n",
       "      <td>16035.0</td>\n",
       "      <td>South-EastAsia</td>\n",
       "    </tr>\n",
       "    <tr>\n",
       "      <th>3</th>\n",
       "      <td>Russia</td>\n",
       "      <td>Europe</td>\n",
       "      <td>1.459409e+08</td>\n",
       "      <td>871894</td>\n",
       "      <td>NaN</td>\n",
       "      <td>14606.0</td>\n",
       "      <td>NaN</td>\n",
       "      <td>676357.0</td>\n",
       "      <td>NaN</td>\n",
       "      <td>180931.0</td>\n",
       "      <td>2300.0</td>\n",
       "      <td>5974.0</td>\n",
       "      <td>100.0</td>\n",
       "      <td>29716907.0</td>\n",
       "      <td>203623.0</td>\n",
       "      <td>Europe</td>\n",
       "    </tr>\n",
       "    <tr>\n",
       "      <th>4</th>\n",
       "      <td>South Africa</td>\n",
       "      <td>Africa</td>\n",
       "      <td>5.938157e+07</td>\n",
       "      <td>538184</td>\n",
       "      <td>NaN</td>\n",
       "      <td>9604.0</td>\n",
       "      <td>NaN</td>\n",
       "      <td>387316.0</td>\n",
       "      <td>NaN</td>\n",
       "      <td>141264.0</td>\n",
       "      <td>539.0</td>\n",
       "      <td>9063.0</td>\n",
       "      <td>162.0</td>\n",
       "      <td>3149807.0</td>\n",
       "      <td>53044.0</td>\n",
       "      <td>Africa</td>\n",
       "    </tr>\n",
       "  </tbody>\n",
       "</table>\n",
       "</div>"
      ],
      "text/plain": [
       "  Country/Region      Continent    Population  TotalCases  NewCases  \\\n",
       "0            USA  North America  3.311981e+08     5032179       NaN   \n",
       "1         Brazil  South America  2.127107e+08     2917562       NaN   \n",
       "2          India           Asia  1.381345e+09     2025409       NaN   \n",
       "3         Russia         Europe  1.459409e+08      871894       NaN   \n",
       "4   South Africa         Africa  5.938157e+07      538184       NaN   \n",
       "\n",
       "   TotalDeaths  NewDeaths  TotalRecovered  NewRecovered  ActiveCases  \\\n",
       "0     162804.0        NaN       2576668.0           NaN    2292707.0   \n",
       "1      98644.0        NaN       2047660.0           NaN     771258.0   \n",
       "2      41638.0        NaN       1377384.0           NaN     606387.0   \n",
       "3      14606.0        NaN        676357.0           NaN     180931.0   \n",
       "4       9604.0        NaN        387316.0           NaN     141264.0   \n",
       "\n",
       "   Serious,Critical  Tot Cases/1M pop  Deaths/1M pop  TotalTests  \\\n",
       "0           18296.0           15194.0          492.0  63139605.0   \n",
       "1            8318.0           13716.0          464.0  13206188.0   \n",
       "2            8944.0            1466.0           30.0  22149351.0   \n",
       "3            2300.0            5974.0          100.0  29716907.0   \n",
       "4             539.0            9063.0          162.0   3149807.0   \n",
       "\n",
       "   Tests/1M pop      WHO Region  \n",
       "0      190640.0        Americas  \n",
       "1       62085.0        Americas  \n",
       "2       16035.0  South-EastAsia  \n",
       "3      203623.0          Europe  \n",
       "4       53044.0          Africa  "
      ]
     },
     "execution_count": 24,
     "metadata": {},
     "output_type": "execute_result"
    }
   ],
   "source": [
    "import seaborn as sns # For plotting\n",
    "import pandas as pd\n",
    "import matplotlib.pyplot as plt # For showing plots\n",
    "\n",
    "# Load in the data set\n",
    "df = pd.read_csv(\"worldometer_data.csv\")\n",
    "df.head()"
   ]
  },
  {
   "cell_type": "markdown",
   "metadata": {},
   "source": [
    "# 1. Pregunta de investigación 1\n",
    "## ¿Que porcentaje de pruebas se han hecho en cada region?"
   ]
  },
  {
   "cell_type": "code",
   "execution_count": 31,
   "metadata": {},
   "outputs": [
    {
     "name": "stdout",
     "output_type": "stream",
     "text": [
      "<class 'pandas.core.groupby.generic.DataFrameGroupBy'>\n"
     ]
    },
    {
     "data": {
      "text/html": [
       "<div>\n",
       "<style scoped>\n",
       "    .dataframe tbody tr th:only-of-type {\n",
       "        vertical-align: middle;\n",
       "    }\n",
       "\n",
       "    .dataframe tbody tr th {\n",
       "        vertical-align: top;\n",
       "    }\n",
       "\n",
       "    .dataframe thead th {\n",
       "        text-align: right;\n",
       "    }\n",
       "</style>\n",
       "<table border=\"1\" class=\"dataframe\">\n",
       "  <thead>\n",
       "    <tr style=\"text-align: right;\">\n",
       "      <th></th>\n",
       "      <th>Population</th>\n",
       "      <th>TotalCases</th>\n",
       "      <th>NewCases</th>\n",
       "      <th>TotalDeaths</th>\n",
       "      <th>NewDeaths</th>\n",
       "      <th>TotalRecovered</th>\n",
       "      <th>NewRecovered</th>\n",
       "      <th>ActiveCases</th>\n",
       "      <th>Serious,Critical</th>\n",
       "      <th>Tot Cases/1M pop</th>\n",
       "      <th>Deaths/1M pop</th>\n",
       "      <th>TotalTests</th>\n",
       "      <th>Tests/1M pop</th>\n",
       "    </tr>\n",
       "    <tr>\n",
       "      <th>WHO Region</th>\n",
       "      <th></th>\n",
       "      <th></th>\n",
       "      <th></th>\n",
       "      <th></th>\n",
       "      <th></th>\n",
       "      <th></th>\n",
       "      <th></th>\n",
       "      <th></th>\n",
       "      <th></th>\n",
       "      <th></th>\n",
       "      <th></th>\n",
       "      <th></th>\n",
       "      <th></th>\n",
       "    </tr>\n",
       "  </thead>\n",
       "  <tbody>\n",
       "    <tr>\n",
       "      <th>Americas</th>\n",
       "      <td>1.018880e+09</td>\n",
       "      <td>10452852</td>\n",
       "      <td>7902.0</td>\n",
       "      <td>384637.0</td>\n",
       "      <td>899.0</td>\n",
       "      <td>6259733.0</td>\n",
       "      <td>5076.0</td>\n",
       "      <td>3808482.0</td>\n",
       "      <td>39973.0</td>\n",
       "      <td>146673.0</td>\n",
       "      <td>4932.00</td>\n",
       "      <td>92420577.0</td>\n",
       "      <td>1570567.0</td>\n",
       "    </tr>\n",
       "    <tr>\n",
       "      <th>Europe</th>\n",
       "      <td>9.277339e+08</td>\n",
       "      <td>3544086</td>\n",
       "      <td>0.0</td>\n",
       "      <td>215564.0</td>\n",
       "      <td>0.0</td>\n",
       "      <td>2047446.0</td>\n",
       "      <td>0.0</td>\n",
       "      <td>566295.0</td>\n",
       "      <td>6676.0</td>\n",
       "      <td>233379.0</td>\n",
       "      <td>9868.00</td>\n",
       "      <td>108184582.0</td>\n",
       "      <td>7382226.0</td>\n",
       "    </tr>\n",
       "    <tr>\n",
       "      <th>South-EastAsia</th>\n",
       "      <td>1.997513e+09</td>\n",
       "      <td>2426899</td>\n",
       "      <td>0.0</td>\n",
       "      <td>50624.0</td>\n",
       "      <td>0.0</td>\n",
       "      <td>1621081.0</td>\n",
       "      <td>0.0</td>\n",
       "      <td>755194.0</td>\n",
       "      <td>8958.0</td>\n",
       "      <td>13145.0</td>\n",
       "      <td>108.40</td>\n",
       "      <td>26922262.0</td>\n",
       "      <td>307222.0</td>\n",
       "    </tr>\n",
       "    <tr>\n",
       "      <th>EasternMediterranean</th>\n",
       "      <td>7.320077e+08</td>\n",
       "      <td>1605866</td>\n",
       "      <td>0.0</td>\n",
       "      <td>42376.0</td>\n",
       "      <td>0.0</td>\n",
       "      <td>1340094.0</td>\n",
       "      <td>0.0</td>\n",
       "      <td>223396.0</td>\n",
       "      <td>7982.0</td>\n",
       "      <td>133235.0</td>\n",
       "      <td>1098.00</td>\n",
       "      <td>19885783.0</td>\n",
       "      <td>1851579.0</td>\n",
       "    </tr>\n",
       "    <tr>\n",
       "      <th>Africa</th>\n",
       "      <td>1.118461e+09</td>\n",
       "      <td>852026</td>\n",
       "      <td>0.0</td>\n",
       "      <td>15538.0</td>\n",
       "      <td>0.0</td>\n",
       "      <td>604326.0</td>\n",
       "      <td>0.0</td>\n",
       "      <td>232162.0</td>\n",
       "      <td>1097.0</td>\n",
       "      <td>43191.0</td>\n",
       "      <td>679.28</td>\n",
       "      <td>6856722.0</td>\n",
       "      <td>596367.0</td>\n",
       "    </tr>\n",
       "  </tbody>\n",
       "</table>\n",
       "</div>"
      ],
      "text/plain": [
       "                        Population  TotalCases  NewCases  TotalDeaths  \\\n",
       "WHO Region                                                              \n",
       "Americas              1.018880e+09    10452852    7902.0     384637.0   \n",
       "Europe                9.277339e+08     3544086       0.0     215564.0   \n",
       "South-EastAsia        1.997513e+09     2426899       0.0      50624.0   \n",
       "EasternMediterranean  7.320077e+08     1605866       0.0      42376.0   \n",
       "Africa                1.118461e+09      852026       0.0      15538.0   \n",
       "\n",
       "                      NewDeaths  TotalRecovered  NewRecovered  ActiveCases  \\\n",
       "WHO Region                                                                   \n",
       "Americas                  899.0       6259733.0        5076.0    3808482.0   \n",
       "Europe                      0.0       2047446.0           0.0     566295.0   \n",
       "South-EastAsia              0.0       1621081.0           0.0     755194.0   \n",
       "EasternMediterranean        0.0       1340094.0           0.0     223396.0   \n",
       "Africa                      0.0        604326.0           0.0     232162.0   \n",
       "\n",
       "                      Serious,Critical  Tot Cases/1M pop  Deaths/1M pop  \\\n",
       "WHO Region                                                                \n",
       "Americas                       39973.0          146673.0        4932.00   \n",
       "Europe                          6676.0          233379.0        9868.00   \n",
       "South-EastAsia                  8958.0           13145.0         108.40   \n",
       "EasternMediterranean            7982.0          133235.0        1098.00   \n",
       "Africa                          1097.0           43191.0         679.28   \n",
       "\n",
       "                       TotalTests  Tests/1M pop  \n",
       "WHO Region                                       \n",
       "Americas               92420577.0     1570567.0  \n",
       "Europe                108184582.0     7382226.0  \n",
       "South-EastAsia         26922262.0      307222.0  \n",
       "EasternMediterranean   19885783.0     1851579.0  \n",
       "Africa                  6856722.0      596367.0  "
      ]
     },
     "execution_count": 31,
     "metadata": {},
     "output_type": "execute_result"
    }
   ],
   "source": [
    "df_continents = df.groupby('WHO Region', \n",
    "                           axis=0).sum()\n",
    "\n",
    "# note: the output of the groupby method is a `groupby' object. \n",
    "# we can not use it further until we apply a function (eg .sum())\n",
    "print(type(df.groupby('WHO Region', \n",
    "                      axis=0\n",
    "                     )))\n",
    "\n",
    "df_continents.sort_values(['TotalCases'], \n",
    "                          ascending=False, \n",
    "                          axis=0, \n",
    "                          inplace=True\n",
    "                         )\n",
    "df_continents.head()"
   ]
  },
  {
   "cell_type": "code",
   "execution_count": 32,
   "metadata": {},
   "outputs": [
    {
     "data": {
      "image/png": "[encoded data removed]",
      "text/plain": [
       "<Figure size 360x432 with 1 Axes>"
      ]
     },
     "metadata": {},
     "output_type": "display_data"
    }
   ],
   "source": [
    "df_continents['TotalTests'].plot(kind='pie',\n",
    "                            figsize=(5, 6),\n",
    "                            autopct='%10.1f%%', # add in percentages\n",
    "                            startangle=90,     # start angle 90° (Africa)\n",
    "                            shadow=True,       # add shadow      \n",
    "                            )\n",
    "\n",
    "plt.title('Total de pruebas que se realizaron en cada WHO region')\n",
    "plt.axis('equal') # Sets the pie chart to look like a circle.\n",
    "\n",
    "plt.show()"
   ]
  },
  {
   "cell_type": "markdown",
   "metadata": {},
   "source": [
    "## Conclusion  \n",
    "* Se puede observar que la region de Europa fue donde se hicieorn han hecho más  pruebas de Covid"
   ]
  },
  {
   "cell_type": "markdown",
   "metadata": {},
   "source": [
    "# 2. Pregunta de investigación 2:\n",
    "### ¿De los casos totales de covid cuantos se han recuperado??"
   ]
  },
  {
   "cell_type": "code",
   "execution_count": 33,
   "metadata": {},
   "outputs": [
    {
     "data": {
      "text/plain": [
       "<matplotlib.axes._subplots.AxesSubplot at 0x7ff2b8d91b90>"
      ]
     },
     "execution_count": 33,
     "metadata": {},
     "output_type": "execute_result"
    },
    {
     "data": {
      "image/png": "[encoded data removed]",
      "text/plain": [
       "<Figure size 432x288 with 1 Axes>"
      ]
     },
     "metadata": {
      "needs_background": "light"
     },
     "output_type": "display_data"
    }
   ],
   "source": [
    "my_pivot = pd.pivot_table(df,\n",
    "                        index = ['TotalRecovered'],\n",
    "                        values = ['TotalCases'],\n",
    "                        #aggfunc = ['std','sum','mean','median'],\n",
    "                        aggfunc = 'sum',\n",
    "                        margins = True\n",
    "                         )\n",
    "            \n",
    "my_pivot.plot() "
   ]
  },
  {
   "cell_type": "markdown",
   "metadata": {},
   "source": [
    "## Conclusiones \n",
    "* Se puede observar que la gran mayoria de los casos de covid ya se recuperaron  "
   ]
  },
  {
   "cell_type": "markdown",
   "metadata": {},
   "source": [
    "# 3. Pregunta de investigación 3:\n",
    "### ¿Que continente tiene el mayor impacto en número de casos?\n"
   ]
  },
  {
   "cell_type": "code",
   "execution_count": 34,
   "metadata": {},
   "outputs": [
    {
     "data": {
      "text/plain": [
       "<matplotlib.axes._subplots.AxesSubplot at 0x7ff2b8cf59d0>"
      ]
     },
     "execution_count": 34,
     "metadata": {},
     "output_type": "execute_result"
    },
    {
     "data": {
      "image/png": "[encoded data removed]",
      "text/plain": [
       "<Figure size 432x288 with 1 Axes>"
      ]
     },
     "metadata": {
      "needs_background": "light"
     },
     "output_type": "display_data"
    }
   ],
   "source": [
    "my_pivot = pd.pivot_table(df,\n",
    "                        index = ['Continent'],\n",
    "                        values = ['TotalCases'],\n",
    "                        #aggfunc = ['std','sum','mean','median'],\n",
    "                        aggfunc = 'sum',\n",
    "                        margins = True\n",
    "                         )\n",
    "            \n",
    "my_pivot.plot.bar()"
   ]
  },
  {
   "cell_type": "markdown",
   "metadata": {},
   "source": [
    "## Conclusiones \n",
    "* Se puede observar que el continente con mas registros de covid en el mundo es Norte America. "
   ]
  },
  {
   "cell_type": "markdown",
   "metadata": {},
   "source": [
    "# . Pregunta 3 de investigacion: \n",
    "## ¿Cual es la relacion con los casos activos y los que estan criticos?"
   ]
  },
  {
   "cell_type": "code",
   "execution_count": 20,
   "metadata": {},
   "outputs": [
    {
     "data": {
      "image/png": "[encoded data removed]",
      "text/plain": [
       "<Figure size 432x288 with 1 Axes>"
      ]
     },
     "metadata": {
      "needs_background": "light"
     },
     "output_type": "display_data"
    }
   ],
   "source": [
    "df.plot(kind='scatter', \n",
    "        x='ActiveCases', \n",
    "        y='Serious,Critical'\n",
    "       )\n",
    "\n",
    "plt.title('Scatterplot of ActiveCases')\n",
    "plt.show()"
   ]
  },
  {
   "cell_type": "markdown",
   "metadata": {
    "tags": []
   },
   "source": [
    "## Conclusion\n",
    "* No existe mucha relacion entre las variables de casos activos y serios/criticos"
   ]
  },
  {
   "cell_type": "markdown",
   "metadata": {},
   "source": [
    "# 4. Pregunta 4 de investigación: \n",
    "## ¿Cual es el impacto de NewRecovered en ActiveCases? "
   ]
  },
  {
   "cell_type": "code",
   "execution_count": 21,
   "metadata": {},
   "outputs": [
    {
     "name": "stderr",
     "output_type": "stream",
     "text": [
      "/srv/conda/envs/notebook/lib/python3.7/site-packages/statsmodels/stats/stattools.py:75: ValueWarning: omni_normtest is not valid with less than 8 observations; 4 samples were given.\n",
      "  \"samples were given.\" % int(n), ValueWarning)\n"
     ]
    },
    {
     "data": {
      "text/html": [
       "<table class=\"simpletable\">\n",
       "<caption>OLS Regression Results</caption>\n",
       "<tr>\n",
       "  <th>Dep. Variable:</th>        <td>NewCases</td>     <th>  R-squared:         </th> <td>   0.875</td>\n",
       "</tr>\n",
       "<tr>\n",
       "  <th>Model:</th>                   <td>OLS</td>       <th>  Adj. R-squared:    </th> <td>   0.813</td>\n",
       "</tr>\n",
       "<tr>\n",
       "  <th>Method:</th>             <td>Least Squares</td>  <th>  F-statistic:       </th> <td>   14.02</td>\n",
       "</tr>\n",
       "<tr>\n",
       "  <th>Date:</th>             <td>Thu, 02 Dec 2021</td> <th>  Prob (F-statistic):</th>  <td>0.0645</td> \n",
       "</tr>\n",
       "<tr>\n",
       "  <th>Time:</th>                 <td>13:14:57</td>     <th>  Log-Likelihood:    </th> <td> -33.134</td>\n",
       "</tr>\n",
       "<tr>\n",
       "  <th>No. Observations:</th>      <td>     4</td>      <th>  AIC:               </th> <td>   70.27</td>\n",
       "</tr>\n",
       "<tr>\n",
       "  <th>Df Residuals:</th>          <td>     2</td>      <th>  BIC:               </th> <td>   69.04</td>\n",
       "</tr>\n",
       "<tr>\n",
       "  <th>Df Model:</th>              <td>     1</td>      <th>                     </th>     <td> </td>   \n",
       "</tr>\n",
       "<tr>\n",
       "  <th>Covariance Type:</th>      <td>nonrobust</td>    <th>                     </th>     <td> </td>   \n",
       "</tr>\n",
       "</table>\n",
       "<table class=\"simpletable\">\n",
       "<tr>\n",
       "       <td></td>          <th>coef</th>     <th>std err</th>      <th>t</th>      <th>P>|t|</th>  <th>[0.025</th>    <th>0.975]</th>  \n",
       "</tr>\n",
       "<tr>\n",
       "  <th>Intercept</th>   <td> -376.9196</td> <td>  924.608</td> <td>   -0.408</td> <td> 0.723</td> <td>-4355.186</td> <td> 3601.347</td>\n",
       "</tr>\n",
       "<tr>\n",
       "  <th>ActiveCases</th> <td>    0.0590</td> <td>    0.016</td> <td>    3.744</td> <td> 0.064</td> <td>   -0.009</td> <td>    0.127</td>\n",
       "</tr>\n",
       "</table>\n",
       "<table class=\"simpletable\">\n",
       "<tr>\n",
       "  <th>Omnibus:</th>       <td>   nan</td> <th>  Durbin-Watson:     </th> <td>   2.759</td>\n",
       "</tr>\n",
       "<tr>\n",
       "  <th>Prob(Omnibus):</th> <td>   nan</td> <th>  Jarque-Bera (JB):  </th> <td>   0.759</td>\n",
       "</tr>\n",
       "<tr>\n",
       "  <th>Skew:</th>          <td>-0.996</td> <th>  Prob(JB):          </th> <td>   0.684</td>\n",
       "</tr>\n",
       "<tr>\n",
       "  <th>Kurtosis:</th>      <td> 2.236</td> <th>  Cond. No.          </th> <td>8.01e+04</td>\n",
       "</tr>\n",
       "</table><br/><br/>Notes:<br/>[1] Standard Errors assume that the covariance matrix of the errors is correctly specified.<br/>[2] The condition number is large, 8.01e+04. This might indicate that there are<br/>strong multicollinearity or other numerical problems."
      ],
      "text/plain": [
       "<class 'statsmodels.iolib.summary.Summary'>\n",
       "\"\"\"\n",
       "                            OLS Regression Results                            \n",
       "==============================================================================\n",
       "Dep. Variable:               NewCases   R-squared:                       0.875\n",
       "Model:                            OLS   Adj. R-squared:                  0.813\n",
       "Method:                 Least Squares   F-statistic:                     14.02\n",
       "Date:                Thu, 02 Dec 2021   Prob (F-statistic):             0.0645\n",
       "Time:                        13:14:57   Log-Likelihood:                -33.134\n",
       "No. Observations:                   4   AIC:                             70.27\n",
       "Df Residuals:                       2   BIC:                             69.04\n",
       "Df Model:                           1                                         \n",
       "Covariance Type:            nonrobust                                         \n",
       "===============================================================================\n",
       "                  coef    std err          t      P>|t|      [0.025      0.975]\n",
       "-------------------------------------------------------------------------------\n",
       "Intercept    -376.9196    924.608     -0.408      0.723   -4355.186    3601.347\n",
       "ActiveCases     0.0590      0.016      3.744      0.064      -0.009       0.127\n",
       "==============================================================================\n",
       "Omnibus:                          nan   Durbin-Watson:                   2.759\n",
       "Prob(Omnibus):                    nan   Jarque-Bera (JB):                0.759\n",
       "Skew:                          -0.996   Prob(JB):                        0.684\n",
       "Kurtosis:                       2.236   Cond. No.                     8.01e+04\n",
       "==============================================================================\n",
       "\n",
       "Notes:\n",
       "[1] Standard Errors assume that the covariance matrix of the errors is correctly specified.\n",
       "[2] The condition number is large, 8.01e+04. This might indicate that there are\n",
       "strong multicollinearity or other numerical problems.\n",
       "\"\"\""
      ]
     },
     "execution_count": 21,
     "metadata": {},
     "output_type": "execute_result"
    }
   ],
   "source": [
    "#y = b0 + b1*x1 + b2*x2 + ... \n",
    "# 'NewCases' =b0 + b1* 'ActiveCases'\n",
    "\n",
    "modelA = sm.OLS.from_formula('NewCases~ActiveCases',data = df)\n",
    "resultA = modelA.fit()\n",
    "resultA.summary()\n"
   ]
  },
  {
   "cell_type": "markdown",
   "metadata": {
    "tags": []
   },
   "source": [
    "## Observaciones \n",
    "* R-cuadrado : 0.870; por lo tanto 87% de ActiveCases explicado por el modelo \n",
    "NewCases =b0 + b1*ActiveCases\n",
    "\n",
    "* Df Model: 1\n",
    "\n",
    "* b0:-376.9196\n",
    "* b1:0.0590\n",
    "\n",
    "* Si el valor de R cuadrado r> 0,7, este valor generalmente se considera un tamaño de efecto fuerte\n",
    "\n",
    "\n",
    "### Modelo final seria: \n",
    "NewCases = -386.3038 + 0.0393*ActiveCases\n",
    "\n"
   ]
  },
  {
   "cell_type": "code",
   "execution_count": 14,
   "metadata": {},
   "outputs": [
    {
     "name": "stdout",
     "output_type": "stream",
     "text": [
      "El NewCases que tiene ActiveCases es: 11403.6962\n"
     ]
    }
   ],
   "source": [
    "print('El NewCases que tiene ActiveCases es:', -386.3038 + 0.0393*300000)"
   ]
  },
  {
   "cell_type": "code",
   "execution_count": 15,
   "metadata": {},
   "outputs": [
    {
     "data": {
      "text/plain": [
       "<matplotlib.axes._subplots.AxesSubplot at 0x7ff2901b5e10>"
      ]
     },
     "execution_count": 15,
     "metadata": {},
     "output_type": "execute_result"
    },
    {
     "data": {
      "image/png": "[encoded data removed]",
      "text/plain": [
       "<Figure size 432x288 with 1 Axes>"
      ]
     },
     "metadata": {
      "needs_background": "light"
     },
     "output_type": "display_data"
    }
   ],
   "source": [
    "sns.regplot(x = 'NewCases',\n",
    "            y = 'ActiveCases',\n",
    "            data = df,\n",
    "           )"
   ]
  },
  {
   "cell_type": "markdown",
   "metadata": {},
   "source": [
    "## Conclusion\n",
    "* Se puede observar que no existe tanta relacion entre los casos activos y los nuevos casos, sin embargo si hay casos activos hay posibilidad de que se registren nuevos casos \n"
   ]
  },
  {
   "cell_type": "markdown",
   "metadata": {
    "tags": []
   },
   "source": [
    "# 5. Pregunta de investigación 5\n",
    "## ¿Que porcentaje de pruebas se han hecho en cada region?"
   ]
  },
  {
   "cell_type": "code",
   "execution_count": 16,
   "metadata": {},
   "outputs": [
    {
     "name": "stdout",
     "output_type": "stream",
     "text": [
      "<class 'pandas.core.groupby.generic.DataFrameGroupBy'>\n"
     ]
    },
    {
     "data": {
      "text/html": [
       "<div>\n",
       "<style scoped>\n",
       "    .dataframe tbody tr th:only-of-type {\n",
       "        vertical-align: middle;\n",
       "    }\n",
       "\n",
       "    .dataframe tbody tr th {\n",
       "        vertical-align: top;\n",
       "    }\n",
       "\n",
       "    .dataframe thead th {\n",
       "        text-align: right;\n",
       "    }\n",
       "</style>\n",
       "<table border=\"1\" class=\"dataframe\">\n",
       "  <thead>\n",
       "    <tr style=\"text-align: right;\">\n",
       "      <th></th>\n",
       "      <th>Population</th>\n",
       "      <th>TotalCases</th>\n",
       "      <th>NewCases</th>\n",
       "      <th>TotalDeaths</th>\n",
       "      <th>NewDeaths</th>\n",
       "      <th>TotalRecovered</th>\n",
       "      <th>NewRecovered</th>\n",
       "      <th>ActiveCases</th>\n",
       "      <th>Serious,Critical</th>\n",
       "      <th>Tot Cases/1M pop</th>\n",
       "      <th>Deaths/1M pop</th>\n",
       "      <th>TotalTests</th>\n",
       "      <th>Tests/1M pop</th>\n",
       "    </tr>\n",
       "    <tr>\n",
       "      <th>WHO Region</th>\n",
       "      <th></th>\n",
       "      <th></th>\n",
       "      <th></th>\n",
       "      <th></th>\n",
       "      <th></th>\n",
       "      <th></th>\n",
       "      <th></th>\n",
       "      <th></th>\n",
       "      <th></th>\n",
       "      <th></th>\n",
       "      <th></th>\n",
       "      <th></th>\n",
       "      <th></th>\n",
       "    </tr>\n",
       "  </thead>\n",
       "  <tbody>\n",
       "    <tr>\n",
       "      <th>Americas</th>\n",
       "      <td>1.018880e+09</td>\n",
       "      <td>10452852</td>\n",
       "      <td>7902.0</td>\n",
       "      <td>384637.0</td>\n",
       "      <td>899.0</td>\n",
       "      <td>6259733.0</td>\n",
       "      <td>5076.0</td>\n",
       "      <td>3808482.0</td>\n",
       "      <td>39973.0</td>\n",
       "      <td>146673.0</td>\n",
       "      <td>4932.00</td>\n",
       "      <td>92420577.0</td>\n",
       "      <td>1570567.0</td>\n",
       "    </tr>\n",
       "    <tr>\n",
       "      <th>Europe</th>\n",
       "      <td>9.277339e+08</td>\n",
       "      <td>3544086</td>\n",
       "      <td>0.0</td>\n",
       "      <td>215564.0</td>\n",
       "      <td>0.0</td>\n",
       "      <td>2047446.0</td>\n",
       "      <td>0.0</td>\n",
       "      <td>566295.0</td>\n",
       "      <td>6676.0</td>\n",
       "      <td>233379.0</td>\n",
       "      <td>9868.00</td>\n",
       "      <td>108184582.0</td>\n",
       "      <td>7382226.0</td>\n",
       "    </tr>\n",
       "    <tr>\n",
       "      <th>South-EastAsia</th>\n",
       "      <td>1.997513e+09</td>\n",
       "      <td>2426899</td>\n",
       "      <td>0.0</td>\n",
       "      <td>50624.0</td>\n",
       "      <td>0.0</td>\n",
       "      <td>1621081.0</td>\n",
       "      <td>0.0</td>\n",
       "      <td>755194.0</td>\n",
       "      <td>8958.0</td>\n",
       "      <td>13145.0</td>\n",
       "      <td>108.40</td>\n",
       "      <td>26922262.0</td>\n",
       "      <td>307222.0</td>\n",
       "    </tr>\n",
       "    <tr>\n",
       "      <th>EasternMediterranean</th>\n",
       "      <td>7.320077e+08</td>\n",
       "      <td>1605866</td>\n",
       "      <td>0.0</td>\n",
       "      <td>42376.0</td>\n",
       "      <td>0.0</td>\n",
       "      <td>1340094.0</td>\n",
       "      <td>0.0</td>\n",
       "      <td>223396.0</td>\n",
       "      <td>7982.0</td>\n",
       "      <td>133235.0</td>\n",
       "      <td>1098.00</td>\n",
       "      <td>19885783.0</td>\n",
       "      <td>1851579.0</td>\n",
       "    </tr>\n",
       "    <tr>\n",
       "      <th>Africa</th>\n",
       "      <td>1.118461e+09</td>\n",
       "      <td>852026</td>\n",
       "      <td>0.0</td>\n",
       "      <td>15538.0</td>\n",
       "      <td>0.0</td>\n",
       "      <td>604326.0</td>\n",
       "      <td>0.0</td>\n",
       "      <td>232162.0</td>\n",
       "      <td>1097.0</td>\n",
       "      <td>43191.0</td>\n",
       "      <td>679.28</td>\n",
       "      <td>6856722.0</td>\n",
       "      <td>596367.0</td>\n",
       "    </tr>\n",
       "  </tbody>\n",
       "</table>\n",
       "</div>"
      ],
      "text/plain": [
       "                        Population  TotalCases  NewCases  TotalDeaths  \\\n",
       "WHO Region                                                              \n",
       "Americas              1.018880e+09    10452852    7902.0     384637.0   \n",
       "Europe                9.277339e+08     3544086       0.0     215564.0   \n",
       "South-EastAsia        1.997513e+09     2426899       0.0      50624.0   \n",
       "EasternMediterranean  7.320077e+08     1605866       0.0      42376.0   \n",
       "Africa                1.118461e+09      852026       0.0      15538.0   \n",
       "\n",
       "                      NewDeaths  TotalRecovered  NewRecovered  ActiveCases  \\\n",
       "WHO Region                                                                   \n",
       "Americas                  899.0       6259733.0        5076.0    3808482.0   \n",
       "Europe                      0.0       2047446.0           0.0     566295.0   \n",
       "South-EastAsia              0.0       1621081.0           0.0     755194.0   \n",
       "EasternMediterranean        0.0       1340094.0           0.0     223396.0   \n",
       "Africa                      0.0        604326.0           0.0     232162.0   \n",
       "\n",
       "                      Serious,Critical  Tot Cases/1M pop  Deaths/1M pop  \\\n",
       "WHO Region                                                                \n",
       "Americas                       39973.0          146673.0        4932.00   \n",
       "Europe                          6676.0          233379.0        9868.00   \n",
       "South-EastAsia                  8958.0           13145.0         108.40   \n",
       "EasternMediterranean            7982.0          133235.0        1098.00   \n",
       "Africa                          1097.0           43191.0         679.28   \n",
       "\n",
       "                       TotalTests  Tests/1M pop  \n",
       "WHO Region                                       \n",
       "Americas               92420577.0     1570567.0  \n",
       "Europe                108184582.0     7382226.0  \n",
       "South-EastAsia         26922262.0      307222.0  \n",
       "EasternMediterranean   19885783.0     1851579.0  \n",
       "Africa                  6856722.0      596367.0  "
      ]
     },
     "execution_count": 16,
     "metadata": {},
     "output_type": "execute_result"
    }
   ],
   "source": [
    "df_continents = df.groupby('WHO Region', \n",
    "                           axis=0).sum()\n",
    "\n",
    "# note: the output of the groupby method is a `groupby' object. \n",
    "# we can not use it further until we apply a function (eg .sum())\n",
    "print(type(df.groupby('WHO Region', \n",
    "                      axis=0\n",
    "                     )))\n",
    "\n",
    "df_continents.sort_values(['TotalCases'], \n",
    "                          ascending=False, \n",
    "                          axis=0, \n",
    "                          inplace=True\n",
    "                         )\n",
    "df_continents.head()"
   ]
  },
  {
   "cell_type": "code",
   "execution_count": 28,
   "metadata": {},
   "outputs": [
    {
     "data": {
      "image/png": "[encoded data removed]",
      "text/plain": [
       "<Figure size 360x432 with 1 Axes>"
      ]
     },
     "metadata": {},
     "output_type": "display_data"
    }
   ],
   "source": [
    "df_continents['TotalTests'].plot(kind='pie',\n",
    "                            figsize=(5, 6),\n",
    "                            autopct='%10.1f%%', # add in percentages\n",
    "                            startangle=90,     # start angle 90° (Africa)\n",
    "                            shadow=True,       # add shadow      \n",
    "                            )\n",
    "\n",
    "plt.title('Total de pruebas que se realizaron en cada continente')\n",
    "plt.axis('equal') # Sets the pie chart to look like a circle.\n",
    "\n",
    "plt.show()"
   ]
  },
  {
   "cell_type": "markdown",
   "metadata": {},
   "source": [
    "## Conclusion  \n",
    "* Se puede observar que la region de Europa fue donde se hicieorn han hecho más  pruebas de Covid"
   ]
  },
  {
   "cell_type": "markdown",
   "metadata": {},
   "source": [
    "# 6. Pregunta de investigación 6: \n",
    "## ¿Cual ha sido el crecimiento/decrecimiento de numero de muertes nuevas durante la pandemia?"
   ]
  },
  {
   "cell_type": "code",
   "execution_count": 18,
   "metadata": {},
   "outputs": [
    {
     "data": {
      "image/png": "[encoded data removed]",
      "text/plain": [
       "<Figure size 432x288 with 1 Axes>"
      ]
     },
     "metadata": {
      "needs_background": "light"
     },
     "output_type": "display_data"
    }
   ],
   "source": [
    "sns.distplot(df[\"NewDeaths\"], \n",
    "             kde = True).set_title(\"Histogram of Tests/1M pop\")\n",
    "\n",
    "# kernel density estimation  KDE\n",
    "\n",
    "plt.show()"
   ]
  },
  {
   "cell_type": "markdown",
   "metadata": {},
   "source": [
    "# Conclusion\n",
    "* Se puede observar que el numero de muertes esta decreciendo \n"
   ]
  },
  {
   "cell_type": "markdown",
   "metadata": {},
   "source": [
    "# Limitaciones\n",
    "\n",
    "* Una de las limitaciones que me encontré, es que hay muchas base de datos que no están actualizadas, por lo que no darían información relevante. \n",
    "\n",
    "* Faltan datos para poder hacer un analisis mas completo, por ejemplo los días, meses, años en los que empezó la pandemia \n"
   ]
  },
  {
   "cell_type": "markdown",
   "metadata": {},
   "source": [
    "## Hallazgos interesantes\n",
    "* El continente donde se realizaron más pruebas de covid fue Europa \n",
    "\n",
    "* Se ha reducido el registro de muertes por covid \n",
    "\n",
    "* El continente con menor casos de covid es Australia, también es donde se han hecho menor cantidad de pruebas "
   ]
  },
  {
   "cell_type": "code",
   "execution_count": null,
   "metadata": {},
   "outputs": [],
   "source": []
  }
 ],
 "metadata": {
  "kernelspec": {
   "display_name": "Python 3 (ipykernel)",
   "language": "python",
   "name": "python3"
  },
  "language_info": {
   "codemirror_mode": {
    "name": "ipython",
    "version": 3
   },
   "file_extension": ".py",
   "mimetype": "text/x-python",
   "name": "python",
   "nbconvert_exporter": "python",
   "pygments_lexer": "ipython3",
   "version": "3.7.12"
  }
 },
 "nbformat": 4,
 "nbformat_minor": 4
}
